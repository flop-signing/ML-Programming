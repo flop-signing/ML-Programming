{
 "cells": [
  {
   "cell_type": "code",
   "execution_count": 62,
   "metadata": {},
   "outputs": [
    {
     "data": {
      "text/plain": [
       "1997.3464912280695"
      ]
     },
     "execution_count": 62,
     "metadata": {},
     "output_type": "execute_result"
    }
   ],
   "source": [
    "import numpy as np\n",
    "import pandas as pd\n",
    "from matplotlib import pyplot as plt\n",
    "\n",
    "# df=pd.read_csv('PIzza.csv')\n",
    "# # plt.plot(df.Size,df.Price)\n",
    "# # plt.xlabel('Size of Pizza')\n",
    "# # plt.ylabel('Price ')\n",
    "# # plt.title('The rate of Pizza in Pizza Hut')\n",
    "# # plt.show()\n",
    "# cols=list(df.columns.values)\n",
    "# print(cols)\n",
    "# np_size=np.array(df.Size)\n",
    "# np_price=np.array(df.Price)\n",
    "# np_squared=np_size*np_size\n",
    "# np_multiply=np_size*np_price\n",
    "# df['Multiply']=np_multiply\n",
    "# df['Squared']=np_squared\n",
    "# df.to_csv('Final_File.csv',index=False)\n",
    "# pf=pd.read_csv('Final_File.csv')\n",
    "# print(pf)\n",
    "pf=pd.read_csv('Final_File.csv')\n",
    "pf\n",
    "s=pf['Size'].mean()\n",
    "p=pf['Price'].mean()\n",
    "m=pf['Multiply'].mean()\n",
    "sq=pf['Squared'].mean()\n",
    "s2=s*s\n",
    "n=((s*p)-m)/(s2-sq)\n",
    "c=p-n*s\n",
    "val=n*17-c\n",
    "val"
   ]
  },
  {
   "cell_type": "code",
   "execution_count": null,
   "metadata": {},
   "outputs": [],
   "source": []
  }
 ],
 "metadata": {
  "kernelspec": {
   "display_name": "Python 3",
   "language": "python",
   "name": "python3"
  },
  "language_info": {
   "codemirror_mode": {
    "name": "ipython",
    "version": 3
   },
   "file_extension": ".py",
   "mimetype": "text/x-python",
   "name": "python",
   "nbconvert_exporter": "python",
   "pygments_lexer": "ipython3",
   "version": "3.8.5"
  }
 },
 "nbformat": 4,
 "nbformat_minor": 4
}
