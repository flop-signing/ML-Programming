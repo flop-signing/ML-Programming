{
 "cells": [
  {
   "cell_type": "code",
   "execution_count": 20,
   "metadata": {},
   "outputs": [
    {
     "name": "stdout",
     "output_type": "stream",
     "text": [
      "0.96749458351408\n"
     ]
    }
   ],
   "source": [
    "import numpy as np\n",
    "import pandas as pd\n",
    "f=pd.read_csv('R_Squrared_Value.csv')\n",
    "size=np.array(f.Size)\n",
    "Up_Price=107.21*size-174.6\n",
    "y2=f['Price'].mean()\n",
    "f['Up_Price']=Up_Price\n",
    "up_price_arr=np.array(f.Up_Price)\n",
    "price=np.array(f.Price)\n",
    "\n",
    "up_price_sqr=(up_price_arr - y2)**2\n",
    "price_sqr=(price-y2)**2\n",
    "R=(np.average(up_price_sqr))/(np.average(price_sqr))\n",
    "print(R)\n",
    "\n",
    "\n"
   ]
  },
  {
   "cell_type": "code",
   "execution_count": null,
   "metadata": {},
   "outputs": [],
   "source": []
  },
  {
   "cell_type": "code",
   "execution_count": null,
   "metadata": {},
   "outputs": [],
   "source": []
  },
  {
   "cell_type": "code",
   "execution_count": null,
   "metadata": {},
   "outputs": [],
   "source": []
  }
 ],
 "metadata": {
  "kernelspec": {
   "display_name": "Python 3",
   "language": "python",
   "name": "python3"
  },
  "language_info": {
   "codemirror_mode": {
    "name": "ipython",
    "version": 3
   },
   "file_extension": ".py",
   "mimetype": "text/x-python",
   "name": "python",
   "nbconvert_exporter": "python",
   "pygments_lexer": "ipython3",
   "version": "3.8.5"
  }
 },
 "nbformat": 4,
 "nbformat_minor": 4
}
