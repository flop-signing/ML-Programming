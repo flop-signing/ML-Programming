{
 "cells": [
  {
   "cell_type": "code",
   "execution_count": 68,
   "metadata": {},
   "outputs": [
    {
     "data": {
      "text/plain": [
       "[<matplotlib.lines.Line2D at 0x20abc763580>]"
      ]
     },
     "execution_count": 68,
     "metadata": {},
     "output_type": "execute_result"
    },
    {
     "data": {
      "image/png": "[encoded data removed]",
      "text/plain": [
       "<Figure size 432x288 with 1 Axes>"
      ]
     },
     "metadata": {
      "needs_background": "light"
     },
     "output_type": "display_data"
    }
   ],
   "source": [
    "import numpy as np\n",
    "import pandas as pd\n",
    "from matplotlib import pyplot as plt\n",
    "\n",
    "# Way One for solution\n",
    "\n",
    "# data=pd.read_csv('PIzza.csv')\n",
    "# avg_size=data['Size'].mean()\n",
    "# avg_price=data['Price'].mean()\n",
    "# np_size=np.array(data.Size)\n",
    "# np_price=np.array(data.Price)\n",
    "# numer=0\n",
    "# denom=0\n",
    "# numer=(np_size-avg_size)*(np_price-avg_price)\n",
    "# denom=(np_size-avg_size)**2\n",
    "# div1=numer.sum()\n",
    "# div2=denom.sum()\n",
    "# m=div1/div2\n",
    "# c=avg_price-m*avg_size\n",
    "\n",
    "# m=float(\"%.2f\" % m ) #Getting a Specific Digit After Decimal in floating point\n",
    "# c=float(\"%.1f\" % c)\n",
    "# print(m)\n",
    "# print(c)\n",
    "# output=(m*17)+(c)\n",
    "# print(output)\n",
    "\n",
    "\n",
    "# Wat Two for Solution\n",
    "\n",
    "data=pd.read_csv('PIzza.csv')\n",
    "X=data['Size'].values\n",
    "Y=data['Price'].values\n",
    "\n",
    "mean_x=np.mean(X)\n",
    "mean_y=np.mean(Y)\n",
    "m=len(X)\n",
    "\n",
    "numer=0\n",
    "denom=0\n",
    "for i in range(m):\n",
    "    numer+=(X[i]-mean_x)*(Y[i]-mean_y)\n",
    "    denom+=(X[i]-mean_x)**2\n",
    "\n",
    "m1=numer/denom\n",
    "c=mean_y-(m1*mean_x)\n",
    "\n",
    "p=np.array(data.Size)\n",
    "y=c+m1*x\n",
    "data['Updated']=c+m1*p\n",
    "data.to_csv('newPizza.csv',index=False)\n",
    "\n",
    "dt=pd.read_csv('newPizza.csv')\n",
    "q=np.array(dt.Updated)\n",
    "\n",
    "\n",
    "#plotting line\n",
    "%matplotlib inline\n",
    "plt.xlabel('Size(inch)')\n",
    "plt.ylabel('Price(taka)')\n",
    "plt.scatter(dt['Size'],dt['Price'],color='red',marker='+')\n",
    "plt.plot(p,q,color='blue')\n",
    "\n"
   ]
  },
  {
   "cell_type": "code",
   "execution_count": null,
   "metadata": {},
   "outputs": [],
   "source": []
  },
  {
   "cell_type": "code",
   "execution_count": null,
   "metadata": {},
   "outputs": [],
   "source": []
  }
 ],
 "metadata": {
  "kernelspec": {
   "display_name": "Python 3",
   "language": "python",
   "name": "python3"
  },
  "language_info": {
   "codemirror_mode": {
    "name": "ipython",
    "version": 3
   },
   "file_extension": ".py",
   "mimetype": "text/x-python",
   "name": "python",
   "nbconvert_exporter": "python",
   "pygments_lexer": "ipython3",
   "version": "3.8.5"
  }
 },
 "nbformat": 4,
 "nbformat_minor": 4
}
